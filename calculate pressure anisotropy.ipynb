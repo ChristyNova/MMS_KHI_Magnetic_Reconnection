{
 "cells": [
  {
   "cell_type": "code",
   "execution_count": 1,
   "id": "5ee4f6d1-559a-4412-aa03-5f0da45f6f21",
   "metadata": {},
   "outputs": [],
   "source": [
    "import numpy as np\n",
    "import pandas as pd\n",
    "import matplotlib.pyplot as plt\n",
    "from IPython.display import display, Latex\n",
    "\n",
    "\n",
    "\n",
    "den_csv = 'MMS2_ni.csv'\n",
    "mag_arr_str = 'MMS2_B.csv'\n",
    "v_arr_str = 'MMS2_Vi.csv'\n",
    "\n",
    "temp_perp = 'MMS2_Tiperp.csv'\n",
    "\n",
    "temp_para = 'MMS2_Tipara.csv'\n",
    "\n",
    "\n",
    "\n",
    "mag_arr = pd.read_csv(mag_arr_str,header = 0,names = ['times','Bx','By','Bz','Bmag','date'],\n",
    "                         parse_dates=['date'])\n",
    "v_arr = pd.read_csv(v_arr_str,header = 0,names = ['times','Vix','Viy','Viz','date'],\n",
    "                         parse_dates=['date'])\n",
    "\n",
    "den_csv = pd.read_csv(den_csv,header = 0,names = ['times','Ni','date'],\n",
    "                         parse_dates=['date'])\n",
    "\n",
    "\n",
    "\n",
    "Tipara_csv = pd.read_csv(temp_para,header = 0,names = ['times','Tipara','date'],\n",
    "                         parse_dates=['date'])\n",
    "\n",
    "Tiperp_csv = pd.read_csv(temp_perp,header = 0,names = ['times','Tiperp','date'],\n",
    "                         parse_dates=['date'])"
   ]
  },
  {
   "cell_type": "code",
   "execution_count": 2,
   "id": "ccb45f7a-8082-4d97-a6b9-8065130f3999",
   "metadata": {},
   "outputs": [],
   "source": [
    "def find_nearest(array, value):\n",
    "        array = np.asarray(array)\n",
    "        idx = (np.abs(array - value)).argmin()\n",
    "        return int(idx)"
   ]
  },
  {
   "cell_type": "code",
   "execution_count": 3,
   "id": "7fa59708-4f57-4ccd-a73e-76fc8c05ffbf",
   "metadata": {},
   "outputs": [],
   "source": [
    "#Constants\n",
    "\n",
    "kb = 1.38066*1e-23     #Boltzmann constant (J/K) (kg m^2 s^-2)(K^-1)\n",
    "μ0 = 1.256637061*1e-6 # N A^-2 #kg m s^-2 A^-2\n",
    "\n",
    "\n",
    "\n",
    "\n",
    "\n",
    "\n",
    "# indices in B-field array that correspond to timestamps in Temperature array\n",
    "\n",
    "closest_indices_b = []\n",
    "\n",
    "B_times = np.array(mag_arr['times'])\n",
    "Tipara_times = np.array(Tipara_csv['times'])\n",
    "\n",
    "\n",
    "for t in range(len(Tipara_times)):\n",
    "    idx = find_nearest(B_times, Tipara_times[t])\n",
    "    closest_indices_b.append(idx)\n",
    "\n",
    "\n",
    " "
   ]
  },
  {
   "cell_type": "code",
   "execution_count": 4,
   "id": "c70c6256-f2c8-4288-b1a5-ca0777c35240",
   "metadata": {},
   "outputs": [],
   "source": [
    "B_GSE = np.array(mag_arr['Bmag'][closest_indices_b])\n",
    "\n",
    "Tipara = np.array(Tipara_csv['Tipara'])*11606 # T in eV convert to K\n",
    "Tiperp= np.array(Tiperp_csv['Tiperp'])*11606\n",
    "\n",
    "# define alphas based on Paschmann et al., 1986\n",
    "\n",
    "P_para = (den_csv['Ni'])*1e6*kb*Tipara # P in units of Pa (m^-3)(kg m^2 s^-2 K^-1)(K)\n",
    "\n",
    "P_perp = (den_csv['Ni'])*1e6*kb*Tiperp\n",
    "\n",
    "\n",
    "\n",
    "# # alpha for plotting:\n",
    "α = ((P_para - P_perp)*μ0)/(B_GSE*1e-9)**2\n"
   ]
  },
  {
   "cell_type": "code",
   "execution_count": 5,
   "id": "14123d06-d99e-461d-98bb-2f259dbffa2e",
   "metadata": {},
   "outputs": [],
   "source": [
    "alpha = pd.DataFrame({\"times\": Tipara_times, \"alpha\": α , \"date\": Tipara_csv['date']})\n"
   ]
  },
  {
   "cell_type": "code",
   "execution_count": 6,
   "id": "00c1586d-cdac-4d34-9adb-9797f48349bd",
   "metadata": {},
   "outputs": [],
   "source": [
    "alpha.to_csv('pressure_anisotropy.csv', index=False)  "
   ]
  },
  {
   "cell_type": "code",
   "execution_count": null,
   "id": "fc08c2e0-1803-4d89-b1ac-079b08c427a4",
   "metadata": {},
   "outputs": [],
   "source": []
  },
  {
   "cell_type": "code",
   "execution_count": null,
   "id": "9cfa6826-6b1a-4e3f-8364-cf338ef06ddb",
   "metadata": {},
   "outputs": [],
   "source": []
  },
  {
   "cell_type": "code",
   "execution_count": null,
   "id": "5023722d-21f2-408f-be41-673afeeee9a4",
   "metadata": {},
   "outputs": [],
   "source": []
  },
  {
   "cell_type": "code",
   "execution_count": null,
   "id": "6d048ac1-9300-4b2d-a247-882bf9a53db2",
   "metadata": {},
   "outputs": [],
   "source": []
  },
  {
   "cell_type": "code",
   "execution_count": null,
   "id": "ece87ae2-3454-47a0-b60f-d22c7b6e92df",
   "metadata": {},
   "outputs": [],
   "source": []
  },
  {
   "cell_type": "code",
   "execution_count": null,
   "id": "0618b0f2-bb29-4ba2-82ec-720515df7f35",
   "metadata": {},
   "outputs": [],
   "source": []
  },
  {
   "cell_type": "code",
   "execution_count": null,
   "id": "62f26416-39da-4210-89e1-13f5dcfc0c47",
   "metadata": {},
   "outputs": [],
   "source": []
  },
  {
   "cell_type": "code",
   "execution_count": null,
   "id": "8d2f463a-9fbb-42ba-9a41-020db399d797",
   "metadata": {},
   "outputs": [],
   "source": []
  }
 ],
 "metadata": {
  "kernelspec": {
   "display_name": "Python 3 (ipykernel)",
   "language": "python",
   "name": "python3"
  },
  "language_info": {
   "codemirror_mode": {
    "name": "ipython",
    "version": 3
   },
   "file_extension": ".py",
   "mimetype": "text/x-python",
   "name": "python",
   "nbconvert_exporter": "python",
   "pygments_lexer": "ipython3",
   "version": "3.12.2"
  }
 },
 "nbformat": 4,
 "nbformat_minor": 5
}
